{
 "cells": [
  {
   "cell_type": "code",
   "execution_count": 1,
   "outputs": [],
   "source": [
    "import importlib\n",
    "import os\n",
    "from gensim import corpora\n",
    "import utils\n",
    "import re"
   ],
   "metadata": {
    "collapsed": false,
    "pycharm": {
     "name": "#%%\n"
    }
   }
  },
  {
   "cell_type": "code",
   "execution_count": null,
   "outputs": [],
   "source": [
    "importlib.reload(utils)"
   ],
   "metadata": {
    "collapsed": false,
    "pycharm": {
     "name": "#%%\n",
     "is_executing": true
    }
   }
  },
  {
   "cell_type": "markdown",
   "source": [
    "### $C_{0aug}$"
   ],
   "metadata": {
    "collapsed": false,
    "pycharm": {
     "name": "#%% md\n"
    }
   }
  },
  {
   "cell_type": "code",
   "execution_count": 9,
   "outputs": [],
   "source": [
    "for t in utils.target_words:\n",
    "    utils.collect_sentences(t, utils.raw_lemma_0)"
   ],
   "metadata": {
    "collapsed": false,
    "pycharm": {
     "name": "#%%\n"
    }
   }
  },
  {
   "cell_type": "code",
   "execution_count": 4,
   "outputs": [],
   "source": [
    "utils.parse_conllu(r\"data/target/gpt_conllu/\", r\"data/target/gpt_vertical/\")"
   ],
   "metadata": {
    "collapsed": false,
    "pycharm": {
     "name": "#%%\n"
    }
   }
  },
  {
   "cell_type": "code",
   "execution_count": 5,
   "outputs": [],
   "source": [
    "utils.flatten(r\"data/target/gpt_vertical/\", r\"data/target/gpt_lemma/\", 1)"
   ],
   "metadata": {
    "collapsed": false,
    "pycharm": {
     "name": "#%%\n"
    }
   }
  },
  {
   "cell_type": "code",
   "execution_count": 6,
   "outputs": [],
   "source": [
    "augmented = open(r\"data/flat/lemma_aug/T0_aug.txt\", 'w', encoding='utf-8')\n",
    "flat_path = r\"data/target/gpt_lemma/\"\n",
    "for flat_name in os.listdir(flat_path):\n",
    "    flat_file = open(os.path.join(flat_path,flat_name), 'r', encoding='utf-8')\n",
    "    for line in flat_file:\n",
    "        augmented.write(line)\n",
    "    flat_file.close()\n",
    "\n",
    "flat_0 = open(r\"data/flat/lemma/T0.txt\", 'r', encoding='utf-8')\n",
    "for line in flat_0:\n",
    "    augmented.write(line)\n",
    "flat_0.close()\n",
    "augmented.close()"
   ],
   "metadata": {
    "collapsed": false,
    "pycharm": {
     "name": "#%%\n"
    }
   }
  },
  {
   "cell_type": "code",
   "execution_count": null,
   "outputs": [],
   "source": [
    "token_a_0 = utils.tokenization(r\"data/flat/lemma_aug/T0_aug.txt\")\n",
    "clean_a_0 = utils.cleaning(token_a_0)\n",
    "dictionary_a_0 = corpora.Dictionary(clean_a_0)\n",
    "filter_a_0 = utils.filtering(dictionary_a_0, clean_a_0, 20)\n",
    "utils.save(filter_a_0, r\"data/processed/tokens-a_0\")\n",
    "bigram_a_0 = utils.ngram(filter_a_0, 300, 150, 10000000)\n",
    "utils.save(bigram_a_0[filter_a_0], r\"data/processed/corpus-a_0\")\n",
    "bi_dictionary_a_0 = corpora.Dictionary(bigram_a_0[filter_a_0])\n",
    "bi_dictionary_0.save(r\"data/processed/corpus-a_0.dict\")"
   ],
   "metadata": {
    "collapsed": false,
    "pycharm": {
     "name": "#%%\n"
    }
   }
  },
  {
   "cell_type": "markdown",
   "source": [
    "### $C_0$"
   ],
   "metadata": {
    "collapsed": false,
    "pycharm": {
     "name": "#%% md\n"
    }
   }
  },
  {
   "cell_type": "code",
   "execution_count": null,
   "outputs": [],
   "source": [
    "token_0 = utils.tokenization(r\"data/flat/lemma/T0.txt\")\n",
    "clean_0 = utils.cleaning(token_0)\n",
    "dictionary_0 = corpora.Dictionary(clean_0)\n",
    "filter_0 = utils.filtering(dictionary_0, clean_0, 20)\n",
    "utils.save(filter_0, r\"data/processed/tokens_0\")\n",
    "bigram_0 = utils.ngram(filter_0, 300, 150, 10000000)\n",
    "utils.save(bigram_0[filter_0], r\"data/processed/corpus_0\")\n",
    "bi_dictionary_0 = corpora.Dictionary(bigram_0[filter_0])\n",
    "bi_dictionary_0.save(r\"data/processed/corpus_0.dict\")"
   ],
   "metadata": {
    "collapsed": false,
    "pycharm": {
     "name": "#%%\n",
     "is_executing": true
    }
   }
  },
  {
   "cell_type": "markdown",
   "source": [
    "### $C_1$"
   ],
   "metadata": {
    "collapsed": false,
    "pycharm": {
     "name": "#%% md\n"
    }
   }
  },
  {
   "cell_type": "code",
   "execution_count": null,
   "outputs": [],
   "source": [
    "token_1 = utils.tokenization(r\"data/flat/lemma/T1.txt\")\n",
    "clean_1 = utils.cleaning(token_1)\n",
    "dictionary_1 = corpora.Dictionary(clean_1)\n",
    "filter_1 = utils.filtering(dictionary_1, clean_1, 20)\n",
    "utils.save(filter_1, r\"data/processed/tokens_1\")\n",
    "bigram_1 = utils.ngram(filter_1, 300, 150, 10000000)\n",
    "utils.save(bigram_1[filter_1], r\"data/processed/corpus_1\")\n",
    "bi_dictionary_1 = corpora.Dictionary(bigram_1[filter_1])\n",
    "bi_dictionary_1.save(r\"data/processed/corpus_1.dict\")"
   ],
   "metadata": {
    "collapsed": false,
    "pycharm": {
     "name": "#%%\n"
    }
   }
  }
 ],
 "metadata": {
  "kernelspec": {
   "display_name": "Python 3",
   "language": "python",
   "name": "python3"
  },
  "language_info": {
   "codemirror_mode": {
    "name": "ipython",
    "version": 2
   },
   "file_extension": ".py",
   "mimetype": "text/x-python",
   "name": "python",
   "nbconvert_exporter": "python",
   "pygments_lexer": "ipython2",
   "version": "2.7.6"
  }
 },
 "nbformat": 4,
 "nbformat_minor": 0
}