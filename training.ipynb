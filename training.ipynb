{
 "cells": [
  {
   "cell_type": "code",
   "execution_count": null,
   "metadata": {
    "colab": {
     "base_uri": "https://localhost:8080/"
    },
    "id": "3yfjfT0F7_NF",
    "outputId": "b295242e-a27e-4599-bc8b-ea34b1ad31e4",
    "pycharm": {
     "name": "#%%\n",
     "is_executing": true
    }
   },
   "outputs": [],
   "source": [
    "#from google.colab import drive\n",
    "#drive.mount('/content/drive')"
   ]
  },
  {
   "cell_type": "code",
   "execution_count": null,
   "metadata": {
    "id": "kgaCkIX_dyzZ",
    "pycharm": {
     "name": "#%%\n"
    }
   },
   "outputs": [],
   "source": [
    "#!cat '/content/drive/MyDrive/nlp/utils.py'\n",
    "#import sys\n",
    "#sys.path.append('/content/drive/MyDrive/nlp')"
   ]
  },
  {
   "cell_type": "code",
   "execution_count": null,
   "metadata": {
    "colab": {
     "background_save": true
    },
    "id": "mK0yX9HI8oty",
    "pycharm": {
     "name": "#%%\n"
    }
   },
   "outputs": [],
   "source": [
    "import utils\n",
    "from gensim.models.word2vec import Word2Vec\n",
    "from multiprocessing import cpu_count\n",
    "\n",
    "#%cd /content/drive/MyDrive/nlp"
   ]
  },
  {
   "cell_type": "code",
   "execution_count": null,
   "metadata": {
    "id": "MogCSsdSQCKe",
    "pycharm": {
     "name": "#%%\n"
    }
   },
   "outputs": [],
   "source": [
    "params = {\n",
    "    'min_count' : 10,\n",
    "    'vector_size' : 300,\n",
    "    'window' : 5,\n",
    "    'sg' : 1,\n",
    "    'epochs' : 5,\n",
    "    'shrink_windows' : True,\n",
    "    'sample' : 0.001,\n",
    "    'alpha' : 0.025,\n",
    "    'negative' : 5\n",
    "}"
   ]
  },
  {
   "cell_type": "markdown",
   "metadata": {
    "id": "SeUgwbxc9f2a",
    "pycharm": {
     "name": "#%% md\n"
    }
   },
   "source": [
    "**BASE** **C0**"
   ]
  },
  {
   "cell_type": "code",
   "execution_count": null,
   "metadata": {
    "id": "pCzZ0eijPBGJ",
    "pycharm": {
     "name": "#%%\n"
    }
   },
   "outputs": [],
   "source": [
    "corpus_0 = utils.load('data/processed/corpus_0')\n",
    "model_0 = Word2Vec(sentences=corpus_0, min_count=params['min_count'], workers=cpu_count(), vector_size=params['vector_size'], window=params['window'],\n",
    "                   sg=params['sg'], epochs=params['epochs'], shrink_windows=params['shrink_windows'],\n",
    "                   sample=params['sample'], alpha=['alpha'], negative=params['negative'])\n",
    "model_0.save('data/models/model_0')"
   ]
  },
  {
   "cell_type": "markdown",
   "metadata": {
    "id": "RF3FuIX5P7ZI",
    "pycharm": {
     "name": "#%% md\n"
    }
   },
   "source": [
    "**AUGMENTED C0**"
   ]
  },
  {
   "cell_type": "code",
   "execution_count": null,
   "metadata": {
    "id": "96HfqGQrknkL",
    "pycharm": {
     "name": "#%%\n"
    }
   },
   "outputs": [],
   "source": [
    "corpusa_0 = utils.load('data/processed/corpus-a_0')\n",
    "model_0 = Word2Vec(sentences=corpusa_0, min_count=params['min_count'], workers=cpu_count(), vector_size=params['vector_size'], window=params['window'],\n",
    "                   sg=params['sg'], epochs=params['epochs'], shrink_windows=params['shrink_windows'],\n",
    "                   sample=params['sample'], alpha=['alpha'], negative=params['negative'])\n",
    "model_0.save('data/models/model-a_0')"
   ]
  },
  {
   "cell_type": "markdown",
   "metadata": {
    "id": "B8mpNwgTP-ha",
    "pycharm": {
     "name": "#%% md\n"
    }
   },
   "source": [
    "**C1**"
   ]
  },
  {
   "cell_type": "code",
   "execution_count": null,
   "metadata": {
    "id": "CG8ynvRVPsTh",
    "pycharm": {
     "name": "#%%\n"
    }
   },
   "outputs": [],
   "source": [
    "corpus_1 = utils.load('data/processed/corpus_1')\n",
    "model_0 = Word2Vec(sentences=corpus_1, min_count=params['min_count'], workers=cpu_count(), vector_size=params['vector_size'], window=params['window'],\n",
    "                   sg=params['sg'], epochs=params['epochs'], shrink_windows=params['shrink_windows'],\n",
    "                   sample=params['sample'], alpha=['alpha'], negative=params['negative'])\n",
    "model_0.save('data/models/model_1')"
   ]
  }
 ],
 "metadata": {
  "colab": {
   "provenance": []
  },
  "kernelspec": {
   "display_name": "Python 3",
   "name": "python3"
  },
  "language_info": {
   "name": "python"
  }
 },
 "nbformat": 4,
 "nbformat_minor": 0
}