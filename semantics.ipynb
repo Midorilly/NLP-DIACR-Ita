{
 "cells": [
  {
   "cell_type": "code",
   "execution_count": 9,
   "outputs": [],
   "source": [
    "import nltk\n",
    "import utils\n",
    "import importlib\n",
    "from gensim.models.word2vec import Word2Vec"
   ],
   "metadata": {
    "collapsed": false,
    "pycharm": {
     "name": "#%%\n"
    }
   }
  },
  {
   "cell_type": "code",
   "execution_count": null,
   "outputs": [],
   "source": [
    "importlib.reload(utils)"
   ],
   "metadata": {
    "collapsed": false,
    "pycharm": {
     "name": "#%%\n",
     "is_executing": true
    }
   }
  },
  {
   "cell_type": "code",
   "execution_count": null,
   "outputs": [],
   "source": [
    "wv_0 = utils.load(r\"data/embeddings/wv_0\")\n",
    "wva_0 = utils.load(r\"data/embeddings/wva_0\")"
   ],
   "metadata": {
    "collapsed": false,
    "pycharm": {
     "name": "#%%\n",
     "is_executing": true
    }
   }
  },
  {
   "cell_type": "code",
   "execution_count": 57,
   "outputs": [
    {
     "name": "stdout",
     "output_type": "stream",
     "text": [
      "{'egemonizzare': 0.0, 'lucciola': 0.06458333333333333, 'campanello': 0.05749330433927956, 'trasferibile': 0.2, 'brama': 0.1841103341103341, 'polisportiva': 0.0, 'palmare': 0.1, 'processare': 0.0, 'pilotato': 0.0, 'cappuccio': 0.14001831501831502, 'pacchetto': 0.09545454545454546, 'ape': 0.0625, 'unico': 0.37878787878787873, 'discriminatorio': 0.21666666666666665, 'rampante': 0.0, 'campionato': 0.12763594430261097, 'tac': 0.05555555555555555, 'piovra': 0.08714352776852778}\n"
     ]
    }
   ],
   "source": [
    "# BASE\n",
    "similarities = {}\n",
    "for t in utils.target_words:\n",
    "    context = wv_0.most_similar(t, topn=20)\n",
    "    similarities[t] = utils.path_similarity(t, context)\n",
    "print(similarities)"
   ],
   "metadata": {
    "collapsed": false,
    "pycharm": {
     "name": "#%%\n"
    }
   }
  },
  {
   "cell_type": "code",
   "execution_count": 59,
   "outputs": [
    {
     "name": "stdout",
     "output_type": "stream",
     "text": [
      "{'egemonizzare': 0.0, 'lucciola': 0.06869658119658119, 'campanello': 0.05876465295969939, 'trasferibile': 0.1520717377860235, 'brama': 0.2645726495726496, 'polisportiva': 0.0, 'palmare': 0.2727272727272727, 'processare': 0.0, 'pilotato': 0.0, 'cappuccio': 0.14716117216117217, 'pacchetto': 0.11349599474599474, 'ape': 0.12138347763347762, 'unico': 0.3636363636363636, 'discriminatorio': 0.20055555555555554, 'rampante': 0.0, 'campionato': 0.13317377067377065, 'tac': 0.06042680229986731, 'piovra': 0.08053011803011802}\n"
     ]
    }
   ],
   "source": [
    "# AUGMENTED\n",
    "similarities = {}\n",
    "for t in utils.target_words:\n",
    "    context = wva_0.most_similar(t, topn=20)\n",
    "    similarities[t] = utils.path_similarity(t, context)\n",
    "print(similarities)"
   ],
   "metadata": {
    "collapsed": false,
    "pycharm": {
     "name": "#%%\n"
    }
   }
  },
  {
   "cell_type": "code",
   "execution_count": 60,
   "outputs": [],
   "source": [
    "# fetch all the lemmas in the italian synset\n",
    "D = set()\n",
    "for synset in wn.all_synsets():\n",
    "    for lemma in synset.lemmas(lang='ita'):\n",
    "        D.add(lemma.name())"
   ],
   "metadata": {
    "collapsed": false,
    "pycharm": {
     "name": "#%%\n"
    }
   }
  },
  {
   "cell_type": "code",
   "execution_count": 61,
   "outputs": [
    {
     "name": "stdout",
     "output_type": "stream",
     "text": [
      "{'egemonizzare': 0.04, 'lucciola': 0.06, 'campanello': 0.58, 'trasferibile': 0.14, 'brama': 0.6, 'polisportiva': 0.06, 'palmare': 0.1, 'processare': 0.3, 'pilotato': 0.32, 'cappuccio': 0.52, 'pacchetto': 0.3, 'ape': 0.02, 'unico': 0.14, 'discriminatorio': 0.2, 'rampante': 0.08, 'campionato': 0.36, 'tac': 0.06, 'piovra': 0.46}\n"
     ]
    }
   ],
   "source": [
    "print(utils.noise(wv_0, 50, D))"
   ],
   "metadata": {
    "collapsed": false,
    "pycharm": {
     "name": "#%%\n"
    }
   }
  },
  {
   "cell_type": "code",
   "execution_count": 63,
   "outputs": [
    {
     "name": "stdout",
     "output_type": "stream",
     "text": [
      "{'egemonizzare': 0.22, 'lucciola': 0.16, 'campanello': 0.68, 'trasferibile': 0.52, 'brama': 0.78, 'polisportiva': 0.18, 'palmare': 0.68, 'processare': 0.48, 'pilotato': 0.38, 'cappuccio': 0.58, 'pacchetto': 0.46, 'ape': 0.44, 'unico': 0.3, 'discriminatorio': 0.34, 'rampante': 0.06, 'campionato': 0.42, 'tac': 0.2, 'piovra': 0.46}\n"
     ]
    }
   ],
   "source": [
    "print(utils.noise(wva_0, 50, D))"
   ],
   "metadata": {
    "collapsed": false,
    "pycharm": {
     "name": "#%%\n"
    }
   }
  }
 ],
 "metadata": {
  "kernelspec": {
   "display_name": "Python 3",
   "language": "python",
   "name": "python3"
  },
  "language_info": {
   "codemirror_mode": {
    "name": "ipython",
    "version": 2
   },
   "file_extension": ".py",
   "mimetype": "text/x-python",
   "name": "python",
   "nbconvert_exporter": "python",
   "pygments_lexer": "ipython2",
   "version": "2.7.6"
  }
 },
 "nbformat": 4,
 "nbformat_minor": 0
}