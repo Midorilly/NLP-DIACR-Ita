{
 "nbformat": 4,
 "nbformat_minor": 0,
 "metadata": {
  "colab": {
   "provenance": []
  },
  "kernelspec": {
   "name": "python3",
   "display_name": "Python 3"
  },
  "language_info": {
   "name": "python"
  }
 },
 "cells": [
  {
   "cell_type": "code",
   "execution_count": null,
   "metadata": {
    "id": "Nf_LbvRmff1h",
    "pycharm": {
     "name": "#%%\n"
    }
   },
   "outputs": [],
   "source": [
    "#from google.colab import drive\n",
    "#drive.mount('/content/drive')"
   ]
  },
  {
   "cell_type": "code",
   "source": [
    "#!ls /content/drive/MyDrive/nlp/*.py\n",
    "#!cat '/content/drive/MyDrive/nlp/utils.py'"
   ],
   "metadata": {
    "id": "FL_ZOnUmguzK",
    "pycharm": {
     "name": "#%%\n"
    }
   },
   "execution_count": null,
   "outputs": []
  },
  {
   "cell_type": "code",
   "source": [
    "#import sys\n",
    "#sys.path.append('/content/drive/MyDrive/nlp')\n",
    "#%cd /content/drive/MyDrive/nlp"
   ],
   "metadata": {
    "id": "rmsp26rWgx-B",
    "pycharm": {
     "name": "#%%\n"
    }
   },
   "execution_count": null,
   "outputs": []
  },
  {
   "cell_type": "code",
   "source": [
    "!pip install openai"
   ],
   "metadata": {
    "id": "0lajzydahIWP",
    "pycharm": {
     "name": "#%%\n"
    }
   },
   "execution_count": null,
   "outputs": []
  },
  {
   "cell_type": "code",
   "source": [
    "import os\n",
    "import openai\n",
    "import time\n",
    "openai.organization = None\n",
    "openai.api_key = 'x'"
   ],
   "metadata": {
    "id": "ok7X0rJgh2aj",
    "pycharm": {
     "name": "#%%\n"
    }
   },
   "execution_count": null,
   "outputs": []
  },
  {
   "cell_type": "code",
   "source": [
    "target_words = ['egemonizzare', 'lucciola', 'campanello', 'trasferibile', 'brama', 'polisportiva', 'palmare', 'pilotato',\n",
    "                'cappuccio', 'ape', 'rampante', 'tac' , 'piovra']\n",
    "\n",
    "for t in target_words:\n",
    "  samples = \"data/target/samples/sample_\"+t+\".txt\"\n",
    "\n",
    "  params = {\n",
    "      \"model\" : \"gpt-3.5-turbo\",\n",
    "      \"n\" : 20,\n",
    "      \"presence_penalty\" : 1.5,\n",
    "  }\n",
    "\n",
    "  input = open(samples, 'r')\n",
    "  for line in input:\n",
    "      prompt = \"Generate in italian a sentence containing the word \" + t + \" whose meaning is the same as in '\" + line + \"'\"\n",
    "      output = openai.ChatCompletion.create(model = params[\"model\"],\n",
    "                                            messages = [{'role': 'system', 'content': prompt}],\n",
    "                                            n = params[\"n\"],\n",
    "                                            presence_penalty = params[\"presence_penalty\"])\n",
    "\n",
    "      path = \"data/target/gpt_output/gpt_\"+t+\".txt\"\n",
    "      output_file = open(path, 'a')\n",
    "      for i in range(0,params[\"n\"]):\n",
    "          output_file.write(output.choices[i].message[\"content\"]+\"\\n\")\n",
    "      output_file.close()\n",
    "\n",
    "      time.sleep(31)\n",
    "\n",
    "  input.close()"
   ],
   "metadata": {
    "id": "ObU7cOvXPoWI",
    "pycharm": {
     "name": "#%%\n"
    }
   },
   "execution_count": null,
   "outputs": []
  }
 ]
}