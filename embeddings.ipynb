{
 "cells": [
  {
   "cell_type": "code",
   "execution_count": 9,
   "outputs": [],
   "source": [
    "import importlib\n",
    "import utils\n",
    "from gensim.models.word2vec import Word2Vec\n",
    "import numpy as np"
   ],
   "metadata": {
    "collapsed": false,
    "pycharm": {
     "name": "#%%\n"
    }
   }
  },
  {
   "cell_type": "code",
   "execution_count": 174,
   "outputs": [
    {
     "data": {
      "text/plain": "<module 'utils' from 'C:\\\\Users\\\\angel\\\\Documents\\\\ComputerScience\\\\1st\\\\II\\\\NLP\\\\Case\\\\code\\\\utils.py'>"
     },
     "execution_count": 174,
     "metadata": {},
     "output_type": "execute_result"
    }
   ],
   "source": [
    "importlib.reload(utils)"
   ],
   "metadata": {
    "collapsed": false,
    "pycharm": {
     "name": "#%%\n"
    }
   }
  },
  {
   "cell_type": "code",
   "execution_count": 164,
   "outputs": [],
   "source": [
    "model_0 = Word2Vec.load(r\"data/models/model_0\")\n",
    "modela_0 = Word2Vec.load(r\"data/models/model-a_0\")\n",
    "model_1 = Word2Vec.load(r\"data/models/model_1\")"
   ],
   "metadata": {
    "collapsed": false,
    "pycharm": {
     "name": "#%%\n"
    }
   }
  },
  {
   "cell_type": "code",
   "execution_count": null,
   "outputs": [],
   "source": [
    "wv_0 = model_0.wv\n",
    "utils.save(wv_0, r\"data/embeddings/wv_0\")\n",
    "wva_0 = modela_0.wv\n",
    "utils.save(wva_0, r\"data/embeddings/wva_0\")\n",
    "wv_1 = model_1.wv\n",
    "utils.save(wv_1, r\"data/embeddings/wv_1\")"
   ],
   "metadata": {
    "collapsed": false,
    "pycharm": {
     "name": "#%%\n",
     "is_executing": true
    }
   }
  },
  {
   "cell_type": "code",
   "execution_count": null,
   "outputs": [],
   "source": [
    "utils.vector_to_text(wv_0, r\"data/alignment/aligned_vectors/vectors_base/align_0.txt\")\n",
    "utils.vector_to_text(wva_0, r\"data/alignment/aligned_vectors/vectors_augmented/align-a_0.txt\")\n",
    "utils.vector_to_text(wv_1, r\"data/alignment/aligned_vectors/vectors_base/align_1.txt\")\n",
    "utils.vector_to_text(wv_1, r\"data/alignment/aligned_vectors/vectors_augmented/align_1.txt\")"
   ],
   "metadata": {
    "collapsed": false,
    "pycharm": {
     "name": "#%%\n",
     "is_executing": true
    }
   }
  },
  {
   "cell_type": "code",
   "execution_count": null,
   "outputs": [],
   "source": [
    "aligned_wv_0_base = utils.text_to_vector(r\"data/alignment/aligned_vectors/base_op_last/align_0.txt\")\n",
    "aligned_wv_1_base = utils.text_to_vector(r\"data/alignment/aligned_vectors/base_op_last/align_1.txt\")"
   ],
   "metadata": {
    "collapsed": false,
    "pycharm": {
     "name": "#%%\n",
     "is_executing": true
    }
   }
  },
  {
   "cell_type": "code",
   "execution_count": 76,
   "outputs": [],
   "source": [
    "distances_0 = utils.compute_distance(aligned_wv_0, aligned_wv_1_base, 0.7, r\"data/evaluation/base_eval.txt\")"
   ],
   "metadata": {
    "collapsed": false,
    "pycharm": {
     "name": "#%%\n"
    }
   }
  },
  {
   "cell_type": "code",
   "execution_count": null,
   "outputs": [],
   "source": [
    "aligned_wv_0_aug = utils.text_to_vector(r\"data/alignment/aligned_vectors/augmented_op_last/align-a_0.txt\")\n",
    "aligned_wv_1_aug = utils.text_to_vector(r\"data/alignment/aligned_vectors/augmented_op_last/align_1.txt\")"
   ],
   "metadata": {
    "collapsed": false,
    "pycharm": {
     "name": "#%%\n",
     "is_executing": true
    }
   }
  },
  {
   "cell_type": "code",
   "execution_count": 78,
   "outputs": [],
   "source": [
    "distances_a_0 = utils.compute_distance(aligned_wv_0_aug, aligned_wv_1_aug, 0.7, r\"data/evaluation/augmented_eval.txt\")"
   ],
   "metadata": {
    "collapsed": false,
    "pycharm": {
     "name": "#%%\n"
    }
   }
  },
  {
   "cell_type": "code",
   "execution_count": 176,
   "outputs": [
    {
     "name": "stdout",
     "output_type": "stream",
     "text": [
      "0.9444444444444444 0.67\n"
     ]
    }
   ],
   "source": [
    "accuracy_base, threshold_base = utils.compute_accuracy(aligned_wv_0_base, aligned_wv_1_base)\n",
    "print(accuracy_base, threshold_base)"
   ],
   "metadata": {
    "collapsed": false,
    "pycharm": {
     "name": "#%%\n"
    }
   }
  },
  {
   "cell_type": "code",
   "execution_count": 177,
   "outputs": [
    {
     "name": "stdout",
     "output_type": "stream",
     "text": [
      "0.9444444444444444 0.67\n"
     ]
    }
   ],
   "source": [
    "accuracy_a, threshold_a = utils.compute_accuracy(aligned_wv_0_aug, aligned_wv_1_aug)\n",
    "print(accuracy_a, threshold_a)"
   ],
   "metadata": {
    "collapsed": false,
    "pycharm": {
     "name": "#%%\n"
    }
   }
  },
  {
   "cell_type": "code",
   "execution_count": 179,
   "outputs": [
    {
     "name": "stdout",
     "output_type": "stream",
     "text": [
      "egemonizzare [[0.49115724]] [[0.54325642]]\n",
      "lucciola [[0.70512431]] [[0.7711589]]\n",
      "campanello [[0.52295192]] [[0.55042323]]\n",
      "trasferibile [[0.66109331]] [[0.49520026]]\n",
      "brama [[0.63176886]] [[0.66265608]]\n",
      "polisportiva [[0.45706535]] [[0.54576738]]\n",
      "palmare [[0.84867977]] [[0.71433472]]\n",
      "processare [[0.40636394]] [[0.36228279]]\n",
      "pilotato [[0.92292626]] [[0.89218215]]\n",
      "cappuccio [[0.5021501]] [[0.50622737]]\n",
      "pacchetto [[0.56647699]] [[0.53314102]]\n",
      "ape [[0.8413936]] [[0.79595041]]\n",
      "unico [[0.44886494]] [[0.44518784]]\n",
      "discriminatorio [[0.4216268]] [[0.42414358]]\n",
      "rampante [[0.72788983]] [[0.71213934]]\n",
      "campionato [[0.25659626]] [[0.25915027]]\n",
      "tac [[0.83104957]] [[0.79385552]]\n",
      "piovra [[0.86188678]] [[0.82489457]]\n"
     ]
    }
   ],
   "source": [
    "distances_base = utils.compute_cosine_distance(aligned_wv_0_base, aligned_wv_1_base)\n",
    "distances_a = utils.compute_cosine_distance(aligned_wv_0_aug, aligned_wv_1_aug)\n",
    "for d in distances_base:\n",
    "    print(d, distances_base[d],distances_a[d])"
   ],
   "metadata": {
    "collapsed": false,
    "pycharm": {
     "name": "#%%\n"
    }
   }
  }
 ],
 "metadata": {
  "kernelspec": {
   "display_name": "Python 3",
   "language": "python",
   "name": "python3"
  },
  "language_info": {
   "codemirror_mode": {
    "name": "ipython",
    "version": 2
   },
   "file_extension": ".py",
   "mimetype": "text/x-python",
   "name": "python",
   "nbconvert_exporter": "python",
   "pygments_lexer": "ipython2",
   "version": "2.7.6"
  }
 },
 "nbformat": 4,
 "nbformat_minor": 0
}